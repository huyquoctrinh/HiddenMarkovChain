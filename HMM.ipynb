{
  "nbformat": 4,
  "nbformat_minor": 0,
  "metadata": {
    "colab": {
      "name": "HMM.ipynb",
      "provenance": [],
      "collapsed_sections": []
    },
    "kernelspec": {
      "name": "python3",
      "display_name": "Python 3"
    },
    "language_info": {
      "name": "python"
    }
  },
  "cells": [
    {
      "cell_type": "markdown",
      "source": [
        "## Demo Hidden Markov Chain\n",
        "Code cài đặt của nhóm được đẩy lên account github thành viên Trịnh Quốc Huy (20120013) https://github.com/huyquoctrinh/HiddenMarkovChain.git, các thuật toán được đóng gói thành 1 lớp để tiện cho việc chạy bài demo trên google colab"
      ],
      "metadata": {
        "id": "an1XVBNI8kVK"
      }
    },
    {
      "cell_type": "code",
      "execution_count": 1,
      "metadata": {
        "colab": {
          "base_uri": "https://localhost:8080/"
        },
        "id": "8KCPvPelf6Ns",
        "outputId": "c1979fcf-4007-4793-ef17-d947ba0cd676"
      },
      "outputs": [
        {
          "output_type": "stream",
          "name": "stdout",
          "text": [
            "Cloning into 'HiddenMarkovChain'...\n",
            "remote: Enumerating objects: 23, done.\u001b[K\n",
            "remote: Counting objects: 100% (23/23), done.\u001b[K\n",
            "remote: Compressing objects: 100% (15/15), done.\u001b[K\n",
            "remote: Total 23 (delta 8), reused 15 (delta 4), pack-reused 0\u001b[K\n",
            "Unpacking objects: 100% (23/23), done.\n"
          ]
        }
      ],
      "source": [
        "!git clone https://github.com/huyquoctrinh/HiddenMarkovChain.git"
      ]
    },
    {
      "cell_type": "code",
      "source": [
        "%cd /content/HiddenMarkovChain"
      ],
      "metadata": {
        "colab": {
          "base_uri": "https://localhost:8080/"
        },
        "id": "iormEp11gGMT",
        "outputId": "1ec614a7-3fb5-4bbe-a6ec-027326f2bb86"
      },
      "execution_count": 2,
      "outputs": [
        {
          "output_type": "stream",
          "name": "stdout",
          "text": [
            "/content/HiddenMarkovChain\n"
          ]
        }
      ]
    },
    {
      "cell_type": "markdown",
      "source": [
        "Câu 1 được implement trong file model.py"
      ],
      "metadata": {
        "id": "bGywlOWSGqFs"
      }
    },
    {
      "cell_type": "code",
      "source": [
        "from model import *\n",
        "import numpy as np\n"
      ],
      "metadata": {
        "id": "Wx48akKqgJBo"
      },
      "execution_count": 3,
      "outputs": []
    },
    {
      "cell_type": "markdown",
      "source": [
        "## Khai báo các biến dựa trên yêu cầu bài toán\n",
        "\n",
        "Theo đề bài, ta xác định được các biến như sau: \\\n",
        "Các trạng thái: \n",
        "- Cân bằng: A \n",
        "- Lỗi: B \n",
        "\n",
        "Các quan sát chúng ta có thể thu được chính là các kết quả chúng ta đổ xúc sắc bao gồm các kết quả có thể quan sát được là: 1,2,3,4,5,6"
      ],
      "metadata": {
        "id": "A3Cu3kYJiel1"
      }
    },
    {
      "cell_type": "code",
      "source": [
        "states = ('A', 'B')\n",
        "possible_observation = ('1','2','3','4','5','6')\n"
      ],
      "metadata": {
        "id": "L0kVBhzggLMJ"
      },
      "execution_count": 4,
      "outputs": []
    },
    {
      "cell_type": "markdown",
      "source": [
        "Sau đấy chúng ta sẽ tiếp tục khai báo các giá trị:\n",
        "- Start probability: mặc định chúng ta gắn là 0.5\n",
        "- transition probability (xác suất chuyển dịch): \\\n",
        "  - Cân bằng: (Cân bằng: 0.2 , lỗi: 0.8)\n",
        "  - Lỗi : (Cân bằng: 0.7 , lỗi: 0.3)\n",
        "- emission probability (xác suất loại bỏ) với:\n",
        "  - Cân bằng: xác suất là 1/6 cho toàn bộ mặt\n",
        "  - Lỗi: 0.5 cho mặt số 6 và 0.1 cho toàn bộ mặt còn lại "
      ],
      "metadata": {
        "id": "VxsJJ8nClmSk"
      }
    },
    {
      "cell_type": "code",
      "source": [
        "start_probability = np.matrix( '0.8 0.2')\n",
        "transition_probability = np.matrix('0.8 0.2 ;  0.7 0.3 ')\n",
        "tmp_prob = 1/6\n",
        "emission_probability = np.matrix(' {} {} {} {} {} {}  ; 0.1 0.1 0.1 0.1 0.1 0.5'.format(tmp_prob,tmp_prob,tmp_prob,tmp_prob,tmp_prob,tmp_prob))"
      ],
      "metadata": {
        "id": "7paN8RSYlhXd"
      },
      "execution_count": 5,
      "outputs": []
    },
    {
      "cell_type": "markdown",
      "source": [
        "Nhóm tiến hành khởi tạo 1 chuỗi dữ liệu theo mô tả bài toán 2b trong mẫu hàm generate_test"
      ],
      "metadata": {
        "id": "bXwpaCBLnrrf"
      }
    },
    {
      "cell_type": "code",
      "source": [
        "def accuracy(a,b):\n",
        "  res = 0\n",
        "  for i in range(len(a)):\n",
        "    if (a[i] == b[i]):\n",
        "      res+=1\n",
        "  return res/len(a)"
      ],
      "metadata": {
        "id": "iBkS3REwYjzy"
      },
      "execution_count": 8,
      "outputs": []
    },
    {
      "cell_type": "code",
      "source": [
        "def generate_test(length, initial_prob,possible_states,possible_observations,emission_probability,transition_probability):\n",
        "  states_arr = []\n",
        "  observations_arr = []\n",
        "  check = {'A':0,'B':1}\n",
        "  initial_state = np.random.choice(states, p = np.array(start_probability)[0])\n",
        "  initial_observation = np.random.choice(possible_observation, p = np.array(emission_probability)[check[initial_state]] )\n",
        "  states_arr.append(initial_state)\n",
        "  observations_arr.append(initial_observation)\n",
        "  for i in range(1,length):\n",
        "    tmp_state = np.random.choice(possible_states, p = np.array(transition_probability)[check[states_arr[i-1]]])\n",
        "    tmp_observation = np.random.choice(possible_observation, p = np.array(emission_probability)[check[tmp_state]])\n",
        "    states_arr.append(tmp_state)\n",
        "    observations_arr.append(tmp_observation)\n",
        "  return states_arr,observations_arr\n",
        "s,o = generate_test(100,start_probability,states,possible_observation,emission_probability,transition_probability)\n",
        "print(\"Number of sample states:\",len(s))\n",
        "print(\"Number of sample observation:\",len(o))\n",
        "# print(len(s),\";\",len(0))"
      ],
      "metadata": {
        "colab": {
          "base_uri": "https://localhost:8080/"
        },
        "id": "6rmlm95dKGX_",
        "outputId": "aff386cb-f006-41b7-a929-f6dcdcd0018b"
      },
      "execution_count": 40,
      "outputs": [
        {
          "output_type": "stream",
          "name": "stdout",
          "text": [
            "100\n",
            "100\n"
          ]
        }
      ]
    },
    {
      "cell_type": "markdown",
      "source": [
        "## Khai báo object Hidden Markov Model với các giá trị được khai báo\n",
        "Đây chính là mô hình được sử dụng để giải quyết bài toán, với câu 2a, các biến số được dùng là các trạng thái (states, các quan sát có thể xảy ra, xác suất ban đầu, xác suất chuyển dịch, xác suất loại bỏ"
      ],
      "metadata": {
        "id": "6sPnkSRRnUvX"
      }
    },
    {
      "cell_type": "code",
      "source": [
        "hmm = HMM(states,possible_observation,start_probability,transition_probability,emission_probability)"
      ],
      "metadata": {
        "id": "nSfbKiJTnTnO"
      },
      "execution_count": 62,
      "outputs": []
    },
    {
      "cell_type": "markdown",
      "source": [
        "Dự đoán các trạng thái dựa trên thuật toán Viterbi, các trạng thái thu được là A và B với A là đồng chất và B là lỗi với đề câu 2c\n",
        "\n",
        "Dưới đây là minh họa thuật toán viterbi với 1 lần thí nghiệm"
      ],
      "metadata": {
        "id": "fsJleVbgoE1S"
      }
    },
    {
      "cell_type": "code",
      "source": [
        "vit_out = (hmm.viterbi(o))\n",
        "print(\"Result of {} sample\".format(len(vit_out)))\n",
        "print(\"Prediction:\",vit_out)\n",
        "print(\"acc\",accuracy(vit_out,s))"
      ],
      "metadata": {
        "colab": {
          "base_uri": "https://localhost:8080/"
        },
        "id": "4-fbmwUBnL_H",
        "outputId": "43c2c986-c625-4745-8b04-314d53f3ddde"
      },
      "execution_count": 34,
      "outputs": [
        {
          "output_type": "stream",
          "name": "stdout",
          "text": [
            "Result of 100 sample\n",
            "Prediction: ['A', 'A', 'A', 'A', 'A', 'A', 'A', 'A', 'A', 'A', 'A', 'A', 'A', 'A', 'A', 'A', 'A', 'A', 'A', 'A', 'A', 'A', 'A', 'A', 'A', 'A', 'A', 'A', 'A', 'A', 'A', 'A', 'A', 'A', 'A', 'A', 'A', 'A', 'A', 'A', 'A', 'A', 'A', 'A', 'A', 'A', 'A', 'A', 'A', 'A', 'A', 'A', 'A', 'A', 'A', 'A', 'A', 'A', 'A', 'A', 'A', 'B', 'B', 'B', 'B', 'B', 'B', 'A', 'A', 'A', 'A', 'A', 'A', 'A', 'A', 'A', 'A', 'A', 'A', 'A', 'A', 'A', 'A', 'B', 'B', 'B', 'B', 'B', 'A', 'A', 'A', 'A', 'A', 'A', 'A', 'A', 'A', 'A', 'A', 'A']\n",
            "acc 0.75\n"
          ]
        }
      ]
    },
    {
      "cell_type": "markdown",
      "source": [
        "Nhóm tiến hành thí nghiệm với chuỗi T = 100 và lặp lại khoảng 1000 lần, kết quả thu được vào khoảng 0.7770277702 cho độ chính xác"
      ],
      "metadata": {
        "id": "hT-Qjvlr68rK"
      }
    },
    {
      "cell_type": "code",
      "source": [
        "from tqdm import tqdm\n",
        "def test_viterbi(iter,hmm):\n",
        "  start_probability = np.matrix( '0.8 0.2')\n",
        "  transition_probability = np.matrix('0.8 0.2 ;  0.7 0.3 ')\n",
        "  tmp_prob = 1/6\n",
        "  emission_probability = np.matrix(' {} {} {} {} {} {}  ; 0.1 0.1 0.1 0.1 0.1 0.5'.format(tmp_prob,tmp_prob,tmp_prob,tmp_prob,tmp_prob,tmp_prob))\n",
        "  test_res = []\n",
        "  print(\"Wait for a minute\")\n",
        "  for i in tqdm(range(iter)):\n",
        "    true_states,new_observations = generate_test(100,start_probability,states,possible_observation,emission_probability,transition_probability) \n",
        "    vit_out = hmm.viterbi(new_observations)\n",
        "    test_res.append(accuracy(vit_out,true_states))\n",
        "  print(test_res)\n",
        "  print(\"Result on {} experiments\".format(len(test_res)))\n",
        "  test_res = np.array(test_res)\n",
        "  return np.mean(test_res)"
      ],
      "metadata": {
        "id": "lD7cDC5B4Ww3"
      },
      "execution_count": 48,
      "outputs": []
    },
    {
      "cell_type": "code",
      "source": [
        "print(test_viterbi(1000,hmm))"
      ],
      "metadata": {
        "colab": {
          "base_uri": "https://localhost:8080/"
        },
        "id": "hIi209AR5TrJ",
        "outputId": "8187883c-19be-4b4a-b0b4-9872667c6985"
      },
      "execution_count": 49,
      "outputs": [
        {
          "output_type": "stream",
          "name": "stdout",
          "text": [
            "Wait for a minute\n"
          ]
        },
        {
          "output_type": "stream",
          "name": "stderr",
          "text": [
            "100%|██████████| 1000/1000 [00:12<00:00, 78.71it/s]"
          ]
        },
        {
          "output_type": "stream",
          "name": "stdout",
          "text": [
            "[0.79, 0.77, 0.81, 0.83, 0.73, 0.82, 0.83, 0.71, 0.72, 0.66, 0.83, 0.64, 0.76, 0.78, 0.76, 0.82, 0.86, 0.76, 0.78, 0.77, 0.65, 0.8, 0.78, 0.77, 0.64, 0.72, 0.81, 0.86, 0.84, 0.71, 0.72, 0.73, 0.77, 0.73, 0.72, 0.73, 0.67, 0.78, 0.62, 0.68, 0.75, 0.7, 0.78, 0.79, 0.69, 0.75, 0.81, 0.77, 0.87, 0.81, 0.71, 0.78, 0.77, 0.68, 0.84, 0.76, 0.83, 0.69, 0.69, 0.76, 0.75, 0.8, 0.7, 0.77, 0.82, 0.71, 0.85, 0.77, 0.66, 0.78, 0.8, 0.61, 0.78, 0.83, 0.67, 0.71, 0.77, 0.75, 0.77, 0.81, 0.73, 0.73, 0.8, 0.8, 0.68, 0.75, 0.77, 0.75, 0.7, 0.87, 0.84, 0.76, 0.71, 0.83, 0.85, 0.78, 0.78, 0.74, 0.76, 0.85, 0.89, 0.75, 0.83, 0.79, 0.75, 0.75, 0.78, 0.76, 0.74, 0.78, 0.77, 0.73, 0.75, 0.74, 0.75, 0.73, 0.72, 0.81, 0.82, 0.7, 0.74, 0.78, 0.79, 0.78, 0.75, 0.74, 0.7, 0.8, 0.72, 0.8, 0.8, 0.73, 0.7, 0.81, 0.74, 0.83, 0.77, 0.76, 0.58, 0.71, 0.82, 0.79, 0.8, 0.82, 0.79, 0.76, 0.79, 0.82, 0.75, 0.71, 0.66, 0.79, 0.77, 0.77, 0.73, 0.76, 0.77, 0.83, 0.77, 0.8, 0.81, 0.83, 0.67, 0.7, 0.81, 0.79, 0.78, 0.81, 0.81, 0.8, 0.79, 0.77, 0.77, 0.69, 0.85, 0.71, 0.82, 0.79, 0.75, 0.82, 0.68, 0.75, 0.69, 0.75, 0.74, 0.74, 0.81, 0.74, 0.69, 0.66, 0.78, 0.9, 0.79, 0.77, 0.79, 0.73, 0.7, 0.79, 0.7, 0.75, 0.69, 0.77, 0.82, 0.81, 0.8, 0.8, 0.78, 0.72, 0.75, 0.83, 0.77, 0.72, 0.85, 0.79, 0.86, 0.83, 0.78, 0.63, 0.73, 0.67, 0.72, 0.76, 0.81, 0.75, 0.73, 0.81, 0.72, 0.82, 0.81, 0.79, 0.63, 0.83, 0.73, 0.77, 0.8, 0.77, 0.8, 0.82, 0.68, 0.72, 0.78, 0.76, 0.8, 0.82, 0.71, 0.71, 0.7, 0.78, 0.82, 0.8, 0.74, 0.77, 0.8, 0.74, 0.85, 0.8, 0.8, 0.77, 0.86, 0.77, 0.82, 0.85, 0.78, 0.74, 0.85, 0.71, 0.74, 0.77, 0.77, 0.67, 0.78, 0.77, 0.82, 0.76, 0.82, 0.78, 0.76, 0.76, 0.54, 0.73, 0.76, 0.72, 0.76, 0.76, 0.75, 0.72, 0.68, 0.8, 0.78, 0.78, 0.66, 0.73, 0.72, 0.66, 0.74, 0.65, 0.72, 0.83, 0.78, 0.69, 0.62, 0.78, 0.75, 0.71, 0.76, 0.62, 0.75, 0.75, 0.73, 0.73, 0.77, 0.74, 0.82, 0.86, 0.77, 0.83, 0.76, 0.67, 0.74, 0.79, 0.69, 0.83, 0.82, 0.77, 0.71, 0.75, 0.81, 0.74, 0.7, 0.76, 0.81, 0.86, 0.84, 0.78, 0.79, 0.76, 0.77, 0.78, 0.77, 0.83, 0.84, 0.69, 0.75, 0.81, 0.75, 0.73, 0.81, 0.76, 0.74, 0.73, 0.78, 0.79, 0.74, 0.78, 0.8, 0.85, 0.75, 0.61, 0.74, 0.82, 0.74, 0.74, 0.81, 0.84, 0.78, 0.81, 0.81, 0.81, 0.7, 0.79, 0.75, 0.87, 0.68, 0.72, 0.69, 0.82, 0.77, 0.73, 0.67, 0.75, 0.76, 0.67, 0.78, 0.81, 0.75, 0.69, 0.78, 0.81, 0.71, 0.77, 0.79, 0.74, 0.78, 0.76, 0.74, 0.81, 0.79, 0.69, 0.77, 0.78, 0.82, 0.75, 0.76, 0.84, 0.75, 0.83, 0.71, 0.74, 0.8, 0.74, 0.76, 0.87, 0.82, 0.69, 0.79, 0.75, 0.87, 0.79, 0.66, 0.77, 0.8, 0.72, 0.77, 0.78, 0.76, 0.77, 0.77, 0.81, 0.78, 0.77, 0.86, 0.72, 0.79, 0.73, 0.74, 0.76, 0.76, 0.81, 0.75, 0.76, 0.75, 0.77, 0.82, 0.71, 0.82, 0.72, 0.8, 0.74, 0.81, 0.74, 0.71, 0.73, 0.69, 0.74, 0.76, 0.82, 0.85, 0.76, 0.75, 0.75, 0.77, 0.72, 0.67, 0.75, 0.74, 0.71, 0.76, 0.73, 0.87, 0.77, 0.77, 0.79, 0.77, 0.71, 0.83, 0.75, 0.76, 0.64, 0.75, 0.81, 0.8, 0.78, 0.78, 0.81, 0.72, 0.72, 0.77, 0.65, 0.75, 0.68, 0.88, 0.82, 0.75, 0.79, 0.7, 0.68, 0.77, 0.81, 0.71, 0.71, 0.76, 0.79, 0.77, 0.72, 0.77, 0.73, 0.67, 0.8, 0.85, 0.61, 0.72, 0.78, 0.74, 0.73, 0.75, 0.71, 0.8, 0.75, 0.79, 0.77, 0.74, 0.85, 0.76, 0.72, 0.68, 0.86, 0.78, 0.71, 0.74, 0.66, 0.74, 0.7, 0.67, 0.81, 0.76, 0.78, 0.73, 0.78, 0.8, 0.61, 0.81, 0.74, 0.8, 0.75, 0.76, 0.76, 0.82, 0.73, 0.75, 0.79, 0.72, 0.8, 0.74, 0.77, 0.75, 0.78, 0.75, 0.73, 0.75, 0.66, 0.76, 0.82, 0.79, 0.66, 0.77, 0.86, 0.83, 0.74, 0.74, 0.68, 0.79, 0.8, 0.79, 0.75, 0.73, 0.68, 0.79, 0.78, 0.76, 0.71, 0.73, 0.71, 0.75, 0.77, 0.79, 0.76, 0.76, 0.78, 0.71, 0.8, 0.82, 0.8, 0.78, 0.75, 0.72, 0.74, 0.79, 0.73, 0.79, 0.74, 0.83, 0.7, 0.74, 0.8, 0.83, 0.75, 0.83, 0.85, 0.87, 0.64, 0.76, 0.73, 0.83, 0.84, 0.78, 0.73, 0.79, 0.81, 0.68, 0.83, 0.8, 0.75, 0.77, 0.75, 0.74, 0.67, 0.76, 0.81, 0.76, 0.82, 0.82, 0.76, 0.78, 0.75, 0.67, 0.71, 0.77, 0.75, 0.81, 0.82, 0.75, 0.73, 0.78, 0.81, 0.81, 0.77, 0.82, 0.77, 0.71, 0.75, 0.69, 0.72, 0.78, 0.78, 0.73, 0.75, 0.78, 0.75, 0.7, 0.86, 0.73, 0.74, 0.76, 0.84, 0.69, 0.76, 0.73, 0.69, 0.69, 0.78, 0.75, 0.79, 0.8, 0.75, 0.72, 0.87, 0.65, 0.72, 0.77, 0.75, 0.77, 0.76, 0.75, 0.66, 0.78, 0.76, 0.8, 0.77, 0.77, 0.73, 0.76, 0.85, 0.69, 0.9, 0.72, 0.77, 0.78, 0.68, 0.77, 0.86, 0.73, 0.77, 0.77, 0.75, 0.79, 0.81, 0.77, 0.71, 0.81, 0.82, 0.77, 0.79, 0.77, 0.67, 0.82, 0.77, 0.81, 0.82, 0.75, 0.74, 0.72, 0.73, 0.77, 0.81, 0.8, 0.82, 0.75, 0.69, 0.69, 0.78, 0.84, 0.72, 0.78, 0.75, 0.76, 0.75, 0.78, 0.72, 0.72, 0.83, 0.66, 0.83, 0.8, 0.8, 0.75, 0.75, 0.72, 0.72, 0.79, 0.87, 0.74, 0.72, 0.78, 0.75, 0.74, 0.76, 0.73, 0.78, 0.84, 0.72, 0.79, 0.75, 0.73, 0.81, 0.8, 0.73, 0.72, 0.82, 0.74, 0.77, 0.73, 0.84, 0.82, 0.76, 0.63, 0.72, 0.86, 0.78, 0.84, 0.8, 0.81, 0.78, 0.71, 0.64, 0.6, 0.77, 0.72, 0.74, 0.81, 0.72, 0.82, 0.72, 0.78, 0.74, 0.64, 0.76, 0.78, 0.68, 0.75, 0.8, 0.73, 0.81, 0.8, 0.72, 0.9, 0.73, 0.7, 0.77, 0.7, 0.69, 0.75, 0.74, 0.76, 0.72, 0.82, 0.74, 0.77, 0.67, 0.78, 0.75, 0.75, 0.69, 0.75, 0.85, 0.71, 0.73, 0.72, 0.72, 0.77, 0.76, 0.75, 0.82, 0.76, 0.73, 0.85, 0.74, 0.74, 0.7, 0.72, 0.76, 0.79, 0.84, 0.83, 0.77, 0.72, 0.76, 0.78, 0.81, 0.74, 0.86, 0.83, 0.79, 0.77, 0.81, 0.85, 0.76, 0.85, 0.71, 0.61, 0.76, 0.64, 0.71, 0.71, 0.63, 0.84, 0.84, 0.75, 0.74, 0.65, 0.86, 0.69, 0.81, 0.76, 0.68, 0.82, 0.79, 0.76, 0.81, 0.69, 0.77, 0.79, 0.8, 0.81, 0.83, 0.75, 0.73, 0.69, 0.73, 0.73, 0.73, 0.69, 0.81, 0.89, 0.68, 0.79, 0.81, 0.8, 0.74, 0.72, 0.8, 0.77, 0.78, 0.81, 0.78, 0.69, 0.74, 0.75, 0.7, 0.79, 0.78, 0.86, 0.77, 0.81, 0.77, 0.73, 0.74, 0.71, 0.79, 0.67, 0.72, 0.7, 0.79, 0.72, 0.79, 0.73, 0.8, 0.79, 0.76, 0.79, 0.73, 0.78, 0.83, 0.77, 0.79, 0.81, 0.79, 0.69, 0.8, 0.67, 0.67, 0.89, 0.83, 0.71, 0.81, 0.81, 0.77, 0.81, 0.7, 0.78, 0.8, 0.7, 0.67, 0.68, 0.85, 0.78, 0.8, 0.78, 0.79, 0.75, 0.78, 0.83, 0.76, 0.71, 0.7, 0.74, 0.81, 0.86, 0.72, 0.79, 0.83, 0.81, 0.76, 0.78, 0.74, 0.78, 0.8, 0.76, 0.74, 0.74, 0.8, 0.79, 0.73, 0.83, 0.79, 0.8, 0.74, 0.87, 0.81, 0.68, 0.69, 0.74, 0.8, 0.65, 0.82, 0.73, 0.69, 0.85, 0.75, 0.84, 0.72]\n",
            "Result on 1000 experiments\n",
            "0.76175\n"
          ]
        },
        {
          "output_type": "stream",
          "name": "stderr",
          "text": [
            "\n"
          ]
        }
      ]
    },
    {
      "cell_type": "markdown",
      "source": [
        "Sử dụng thuật toán Baum-Welch để ước lượng các tham số của mô hình Markov với sample observations được sinh ra ở trêntrên, với số lần lặp lại thí nghiệm là iter 1000\n",
        "\n",
        "Các tham số thu được là inital probability, transition probability và emission probability được in ra trong quá trình chạy code để trả lời cho câu 2d"
      ],
      "metadata": {
        "id": "sw3rzoWfoKCa"
      }
    },
    {
      "cell_type": "code",
      "source": [
        "num_iter=1000\n",
        "e,t,s = hmm.BW([o],num_iter,[100,1])\n",
        "print(\"emission probability:\",e)\n",
        "print(\"transition probability:\",t)\n",
        "print(\"start probability:\",s)"
      ],
      "metadata": {
        "colab": {
          "base_uri": "https://localhost:8080/"
        },
        "id": "b8CCUbiAnNo2",
        "outputId": "16d381fa-d02c-46a8-e7b0-270b6c9214f2"
      },
      "execution_count": 66,
      "outputs": [
        {
          "output_type": "stream",
          "name": "stdout",
          "text": [
            "emission: [[0.12630288 0.20506847 0.25100458 0.19290802 0.08825287 0.13646317]\n",
            " [0.27448642 0.05310052 0.22063614 0.07449826 0.03788192 0.33939674]]\n",
            "transition: [[0.80125353 0.19874647]\n",
            " [0.3413498  0.6586502 ]]\n",
            "start prob: [[9.99050077e-01 9.49922630e-04]]\n",
            "1.4253365636002144e-75\n"
          ]
        }
      ]
    }
  ]
}
